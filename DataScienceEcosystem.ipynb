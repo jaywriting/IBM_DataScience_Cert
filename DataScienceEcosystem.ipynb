{
 "cells": [
  {
   "cell_type": "markdown",
   "id": "8e851fea-df42-4226-9f1d-e97516e27da4",
   "metadata": {},
   "source": [
    "# Data Science Tools and Ecosystem"
   ]
  },
  {
   "cell_type": "markdown",
   "id": "e0a917ad-83ee-4203-9608-90d42ca9046f",
   "metadata": {},
   "source": [
    "In this notebook, Data Science Tools and Ecosystem are summarized."
   ]
  },
  {
   "cell_type": "markdown",
   "id": "69712df3-c7eb-43e8-807f-a358e2f65178",
   "metadata": {},
   "source": [
    "Some of the popular languages that Data Scientists use are:\n",
    "1. SQL\n",
    "2. Python\n",
    "3. R"
   ]
  },
  {
   "cell_type": "markdown",
   "id": "33f97e9c-c40d-4a5d-b656-96f83bbef8c1",
   "metadata": {},
   "source": [
    "| Data Science Tools |\n",
    "| --- |\n",
    "| R Studio |\n",
    "| VS Code |\n",
    "| Anaconda | "
   ]
  },
  {
   "cell_type": "markdown",
   "id": "ef9bef7d-cfec-4451-a462-8262b33b7797",
   "metadata": {},
   "source": [
    "### Below are a few examples of evaluating arithmetic expressions in Python"
   ]
  },
  {
   "cell_type": "code",
   "execution_count": 1,
   "id": "3d92fd5c-0634-429f-96a6-c2055426f568",
   "metadata": {
    "tags": []
   },
   "outputs": [
    {
     "data": {
      "text/plain": [
       "17"
      ]
     },
     "execution_count": 1,
     "metadata": {},
     "output_type": "execute_result"
    }
   ],
   "source": [
    "## This a simple arithmetic expression to mutiply then add integers\n",
    "\n",
    "(3*4) + 5"
   ]
  },
  {
   "cell_type": "code",
   "execution_count": 2,
   "id": "5f4383db-60de-4cc8-9099-cb77d5a2b7d7",
   "metadata": {
    "tags": []
   },
   "outputs": [
    {
     "data": {
      "text/plain": [
       "3.3333333333333335"
      ]
     },
     "execution_count": 2,
     "metadata": {},
     "output_type": "execute_result"
    }
   ],
   "source": [
    "## This will convert 200 minutes to hours by diving by 60\n",
    "\n",
    "minutes = 200\n",
    "hours = minutes / 60\n",
    "hours"
   ]
  },
  {
   "cell_type": "markdown",
   "id": "2ed9a0f8-8aa0-458c-8c3f-9c5353a6b23a",
   "metadata": {},
   "source": [
    "__Objectives:__\n",
    "\n",
    "* List popular languages\n",
    "* List IDEs\n",
    "* Give Python code examples"
   ]
  },
  {
   "cell_type": "markdown",
   "id": "12f03c68-0099-428c-ad78-2d9a1478d52f",
   "metadata": {},
   "source": [
    "## Author\n",
    "Jay Dent\n"
   ]
  },
  {
   "cell_type": "code",
   "execution_count": null,
   "id": "8e03282f-0ce1-4e02-9288-a68bbbc147be",
   "metadata": {},
   "outputs": [],
   "source": []
  }
 ],
 "metadata": {
  "kernelspec": {
   "display_name": "Python",
   "language": "python",
   "name": "conda-env-python-py"
  },
  "language_info": {
   "codemirror_mode": {
    "name": "ipython",
    "version": 3
   },
   "file_extension": ".py",
   "mimetype": "text/x-python",
   "name": "python",
   "nbconvert_exporter": "python",
   "pygments_lexer": "ipython3",
   "version": "3.7.12"
  }
 },
 "nbformat": 4,
 "nbformat_minor": 5
}
